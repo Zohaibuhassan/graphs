{
  "nbformat": 4,
  "nbformat_minor": 0,
  "metadata": {
    "colab": {
      "provenance": [],
      "authorship_tag": "ABX9TyMKWAetUGs8W367e3nDflPp",
      "include_colab_link": true
    },
    "kernelspec": {
      "name": "python3",
      "display_name": "Python 3"
    },
    "language_info": {
      "name": "python"
    }
  },
  "cells": [
    {
      "cell_type": "markdown",
      "metadata": {
        "id": "view-in-github",
        "colab_type": "text"
      },
      "source": [
        "<a href=\"https://colab.research.google.com/github/Zohaibuhassan/graphs/blob/main/graph2.ipynb\" target=\"_parent\"><img src=\"https://colab.research.google.com/assets/colab-badge.svg\" alt=\"Open In Colab\"/></a>"
      ]
    },
    {
      "cell_type": "code",
      "execution_count": null,
      "metadata": {
        "id": "XCekmQqsBBDe"
      },
      "outputs": [],
      "source": [
        "import matplotlib.pyplot as plt\n",
        "\n",
        "# Sample years\n",
        "years = list(range(2000, 2020))\n",
        "\n",
        "# Example frequency data for each keyword (replace with real data)\n",
        "data = {\n",
        "    'online learning': ([2, 3, 5, 7, 12, 18, 24, 32, 45, 60, 75, 85, 95, 100, 105, 110, 115, 120, 125, 130], 'ro-', 'red circle'),\n",
        "    'e-learning': ([5, 8, 12, 20, 28, 40, 55, 70, 90, 110, 125, 130, 135, 140, 145, 150, 155, 160, 165, 170], 'r^-', 'red triangle'),\n",
        "    'web-based learning': ([1, 2, 4, 6, 8, 10, 12, 14, 18, 22, 26, 30, 34, 38, 42, 45, 48, 50, 52, 54], 'bo-', 'blue circle'),\n",
        "    'internet-based learning': ([2, 3, 5, 6, 8, 10, 13, 16, 19, 21, 24, 27, 30, 33, 36, 39, 42, 45, 47, 50], 'b^-', 'blue triangle'),\n",
        "    'distance education': ([10, 12, 13, 15, 16, 18, 19, 20, 21, 22, 23, 24, 24, 25, 25, 26, 26, 27, 27, 28], 'go-', 'green circle'),\n",
        "    'distance learning': ([9, 10, 11, 13, 15, 17, 18, 20, 21, 22, 23, 24, 24, 25, 25, 26, 27, 27, 28, 29], 'g^-', 'green triangle'),\n",
        "    'distributed learning': ([1, 1, 2, 2, 3, 4, 4, 5, 5, 6, 7, 7, 8, 8, 9, 9, 10, 10, 11, 11], 'gs-', 'green square'),\n",
        "    'computer aided learning': ([3, 4, 5, 6, 7, 9, 11, 13, 15, 16, 17, 18, 19, 19, 20, 21, 22, 22, 23, 24], 'ko-', 'black circle'),\n",
        "    'computer assisted learning': ([2, 3, 4, 6, 8, 10, 11, 12, 13, 14, 15, 15, 16, 17, 17, 18, 18, 19, 19, 20], 'k^-', 'black triangle'),\n",
        "    'computer-mediated learning': ([1, 2, 3, 4, 5, 6, 6, 7, 8, 9, 9, 10, 10, 11, 11, 12, 13, 13, 14, 14], 'ks-', 'black square'),\n",
        "}\n",
        "\n",
        "# Plot each keyword\n",
        "plt.figure(figsize=(12, 7))\n",
        "for label, (values, style, desc) in data.items():\n",
        "    plt.plot(years, values, style, label=label)\n",
        "\n",
        "# Styling\n",
        "plt.title('Keyword Popularity Over Time')\n",
        "plt.xlabel('Year')\n",
        "plt.ylabel('Frequency')\n",
        "plt.grid(True, linestyle='--', alpha=0.6)\n",
        "plt.legend(loc='upper left', fontsize='small')\n",
        "plt.tight_layout()\n",
        "\n",
        "plt.show()\n"
      ]
    }
  ]
}
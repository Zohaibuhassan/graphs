{
  "nbformat": 4,
  "nbformat_minor": 0,
  "metadata": {
    "colab": {
      "provenance": [],
      "authorship_tag": "ABX9TyNEX3bfOeo6nMClDYA1eRm1",
      "include_colab_link": true
    },
    "kernelspec": {
      "name": "python3",
      "display_name": "Python 3"
    },
    "language_info": {
      "name": "python"
    }
  },
  "cells": [
    {
      "cell_type": "markdown",
      "metadata": {
        "id": "view-in-github",
        "colab_type": "text"
      },
      "source": [
        "<a href=\"https://colab.research.google.com/github/Zohaibuhassan/graphs/blob/main/graph3.ipynb\" target=\"_parent\"><img src=\"https://colab.research.google.com/assets/colab-badge.svg\" alt=\"Open In Colab\"/></a>"
      ]
    },
    {
      "cell_type": "code",
      "execution_count": null,
      "metadata": {
        "id": "S3CB3WQPCREg"
      },
      "outputs": [],
      "source": [
        "import matplotlib.pyplot as plt\n",
        "\n",
        "# Data for each subplot\n",
        "status_labels = ['Student', 'Employed', 'Intern', 'Teacher', 'Freelance']\n",
        "status_counts = [108, 13, 7, 1, 1]\n",
        "\n",
        "field_labels = ['Computer Science', 'Mechanical Engineering', 'Biotechnology', 'Computer System Engineering', 'Computer Science (alt)']\n",
        "field_counts = [5, 4, 4, 3, 3]\n",
        "\n",
        "support_labels = ['6', '7', '8', '9', '10']\n",
        "support_counts = [13, 16, 24, 13, 11]\n",
        "\n",
        "# Create figure and subplots\n",
        "fig, axs = plt.subplots(1, 3, figsize=(16, 5))\n",
        "\n",
        "# First chart: Current Status\n",
        "axs[0].bar(status_labels, status_counts, color='skyblue')\n",
        "axs[0].set_title('Current Status')\n",
        "axs[0].set_xlabel('Status')\n",
        "axs[0].set_ylabel('Responses')\n",
        "axs[0].grid(axis='y', linestyle='--', alpha=0.5)\n",
        "\n",
        "# Second chart: Field of Study\n",
        "axs[1].bar(field_labels, field_counts, color='lightgreen')\n",
        "axs[1].set_title('Field of Study')\n",
        "axs[1].set_xlabel('Field')\n",
        "axs[1].set_ylabel('Responses')\n",
        "axs[1].tick_params(axis='x', rotation=45)\n",
        "axs[1].grid(axis='y', linestyle='--', alpha=0.5)\n",
        "\n",
        "# Third chart: Institutional Support Ratings\n",
        "axs[2].bar(support_labels, support_counts, color='salmon')\n",
        "axs[2].set_title('Institutional Support')\n",
        "axs[2].set_xlabel('Rating')\n",
        "axs[2].set_ylabel('Responses')\n",
        "axs[2].grid(axis='y', linestyle='--', alpha=0.5)\n",
        "\n",
        "plt.tight_layout()\n",
        "plt.show()\n"
      ]
    }
  ]
}
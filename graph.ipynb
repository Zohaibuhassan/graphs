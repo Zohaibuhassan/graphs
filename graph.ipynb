{
  "nbformat": 4,
  "nbformat_minor": 0,
  "metadata": {
    "colab": {
      "provenance": [],
      "authorship_tag": "ABX9TyPGIuePX6oWy8hxZD68/Vhn",
      "include_colab_link": true
    },
    "kernelspec": {
      "name": "python3",
      "display_name": "Python 3"
    },
    "language_info": {
      "name": "python"
    }
  },
  "cells": [
    {
      "cell_type": "markdown",
      "metadata": {
        "id": "view-in-github",
        "colab_type": "text"
      },
      "source": [
        "<a href=\"https://colab.research.google.com/github/Zohaibuhassan/graphs/blob/main/graph.ipynb\" target=\"_parent\"><img src=\"https://colab.research.google.com/assets/colab-badge.svg\" alt=\"Open In Colab\"/></a>"
      ]
    },
    {
      "cell_type": "code",
      "execution_count": null,
      "metadata": {
        "id": "-NWSxxo7_o3g"
      },
      "outputs": [],
      "source": [
        "import matplotlib.pyplot as plt\n",
        "\n",
        "# Categories and values\n",
        "roles = ['Student', 'Teacher', 'Employee', 'Intern', 'Freelancer']\n",
        "counts = [40, 15, 25, 10, 30]  # Example values\n",
        "\n",
        "# Bar chart\n",
        "plt.figure(figsize=(8, 5))\n",
        "bars = plt.bar(roles, counts, color=['#4C72B0', '#55A868', '#C44E52', '#8172B3', '#CCB974'])\n",
        "\n",
        "# Add labels on top of bars\n",
        "for bar in bars:\n",
        "    height = bar.get_height()\n",
        "    plt.text(bar.get_x() + bar.get_width()/2, height + 1, str(height), ha='center', va='bottom')\n",
        "\n",
        "# Styling\n",
        "plt.title('Role Distribution')\n",
        "plt.xlabel('Role')\n",
        "plt.ylabel('Count')\n",
        "plt.ylim(0, max(counts) + 10)\n",
        "plt.grid(axis='y', linestyle='--', alpha=0.7)\n",
        "\n",
        "plt.tight_layout()\n",
        "plt.show()\n"
      ]
    }
  ]
}
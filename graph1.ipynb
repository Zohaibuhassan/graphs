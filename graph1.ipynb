{
  "nbformat": 4,
  "nbformat_minor": 0,
  "metadata": {
    "colab": {
      "provenance": [],
      "authorship_tag": "ABX9TyMHLIV4cjsd6MLQ1GAJUpOW",
      "include_colab_link": true
    },
    "kernelspec": {
      "name": "python3",
      "display_name": "Python 3"
    },
    "language_info": {
      "name": "python"
    }
  },
  "cells": [
    {
      "cell_type": "markdown",
      "metadata": {
        "id": "view-in-github",
        "colab_type": "text"
      },
      "source": [
        "<a href=\"https://colab.research.google.com/github/Zohaibuhassan/graphs/blob/main/graph1.ipynb\" target=\"_parent\"><img src=\"https://colab.research.google.com/assets/colab-badge.svg\" alt=\"Open In Colab\"/></a>"
      ]
    },
    {
      "cell_type": "code",
      "execution_count": null,
      "metadata": {
        "id": "jOewSYUzBwe_"
      },
      "outputs": [],
      "source": [
        "import pandas as pd\n",
        "import matplotlib.pyplot as plt\n",
        "from pandas.plotting import andrews_curves\n",
        "\n",
        "# Sample dataset representing individuals and their attributes\n",
        "data = {\n",
        "    'Role': ['Student'] * 5 + ['Teacher'] * 5 + ['Intern'] * 5 + ['Fre'] * 5 + ['Employed'] * 5,\n",
        "    'Feature1': [1, 2, 3, 4, 5] * 5,\n",
        "    'Feature2': [2, 3, 4, 5, 6] * 5,\n",
        "    'Feature3': [3, 4, 5, 6, 7] * 5,\n",
        "    'Feature4': [4, 5, 6, 7, 8] * 5\n",
        "}\n",
        "\n",
        "df = pd.DataFrame(data)\n",
        "\n",
        "# Plot Andrews Curves\n",
        "plt.figure(figsize=(10, 6))\n",
        "andrews_curves(df, class_column='Role', colormap='coolwarm')\n",
        "plt.title('Andrews Curves: Visualizing Student vs Teacher Trends')\n",
        "plt.grid(True, linestyle='--', alpha=0.5)\n",
        "plt.tight_layout()\n",
        "plt.show()\n"
      ]
    }
  ]
}